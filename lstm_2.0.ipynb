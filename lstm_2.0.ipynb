{
  "nbformat": 4,
  "nbformat_minor": 0,
  "metadata": {
    "accelerator": "GPU",
    "colab": {
      "name": "speaker recognition using LSTM 1.0 - SAFII",
      "provenance": [],
      "collapsed_sections": [],
      "toc_visible": true
    },
    "kernelspec": {
      "display_name": "Python 3",
      "language": "python",
      "name": "python3"
    },
    "language_info": {
      "codemirror_mode": {
        "name": "ipython",
        "version": 3
      },
      "file_extension": ".py",
      "mimetype": "text/x-python",
      "name": "python",
      "nbconvert_exporter": "python",
      "pygments_lexer": "ipython3",
      "version": "3.7.0"
    }
  },
  "cells": [
    {
      "cell_type": "markdown",
      "metadata": {
        "id": "r5NH4GwXPf-H"
      },
      "source": [
        "This notebook is based on https://keras.io/examples/audio/speaker_recognition_using_cnn/"
      ]
    },
    {
      "cell_type": "code",
      "metadata": {
        "colab": {
          "base_uri": "https://localhost:8080/"
        },
        "id": "G2o8EqLYRB2-",
        "outputId": "4f9de19f-3c8d-4116-cc81-515faa1444c4"
      },
      "source": [
        "from google.colab import drive\n",
        "drive.mount('/content/drive')"
      ],
      "execution_count": null,
      "outputs": [
        {
          "output_type": "stream",
          "text": [
            "Drive already mounted at /content/drive; to attempt to forcibly remount, call drive.mount(\"/content/drive\", force_remount=True).\n"
          ],
          "name": "stdout"
        }
      ]
    },
    {
      "cell_type": "markdown",
      "metadata": {
        "id": "fE7504HqPf-X"
      },
      "source": [
        "## Setup"
      ]
    },
    {
      "cell_type": "code",
      "metadata": {
        "id": "l3Tr1AmtPf-Y"
      },
      "source": [
        "import os\n",
        "import shutil\n",
        "import numpy as np\n",
        "\n",
        "import tensorflow as tf\n",
        "from tensorflow import keras\n",
        "\n",
        "import matplotlib.pyplot as plt\n",
        "\n",
        "from pathlib import Path\n",
        "from IPython.display import display, Audio\n",
        "\n",
        "# Get the data from https://www.kaggle.com/kongaevans/speaker-recognition-dataset/download\n",
        "# and save it to the 'Downloads' folder in your HOME directory\n",
        "DATASET_ROOT = \"/content/drive/MyDrive/AI_Project/archive/16000_pcm_speeches\"\n",
        "\n",
        "# The folders in which we will put the audio samples and the noise samples\n",
        "AUDIO_SUBFOLDER = \"audio\"\n",
        "NOISE_SUBFOLDER = \"noise\"\n",
        "\n",
        "DATASET_AUDIO_PATH = os.path.join(DATASET_ROOT, AUDIO_SUBFOLDER)\n",
        "DATASET_NOISE_PATH = os.path.join(DATASET_ROOT, NOISE_SUBFOLDER)\n",
        "\n",
        "# Percentage of samples to use for validation\n",
        "VALID_SPLIT = 0.1\n",
        "\n",
        "# Seed to use when shuffling the dataset and the noise\n",
        "SHUFFLE_SEED = 43\n",
        "\n",
        "# The sampling rate to use.\n",
        "# This is the one used in all of the audio samples.\n",
        "# We will resample all of the noise to this sampling rate.\n",
        "# This will also be the output size of the audio wave samples\n",
        "# (since all samples are of 1 second long)\n",
        "SAMPLING_RATE = 16000\n",
        "\n",
        "# The factor to multiply the noise with according to:\n",
        "#   noisy_sample = sample + noise * prop * scale\n",
        "#      where prop = sample_amplitude / noise_amplitude\n",
        "SCALE = 0.5\n",
        "\n",
        "BATCH_SIZE = 64\n",
        "EPOCHS = 50\n"
      ],
      "execution_count": null,
      "outputs": []
    },
    {
      "cell_type": "markdown",
      "metadata": {
        "id": "ucuokhmjPf-a"
      },
      "source": [
        "## Data preparation\n",
        "\n"
      ]
    },
    {
      "cell_type": "code",
      "metadata": {
        "id": "a53l-S4TPf-c"
      },
      "source": [
        "# If folder `audio`, does not exist, create it, otherwise do nothing\n",
        "if os.path.exists(DATASET_AUDIO_PATH) is False:\n",
        "    os.makedirs(DATASET_AUDIO_PATH)\n",
        "\n",
        "# If folder `noise`, does not exist, create it, otherwise do nothing\n",
        "if os.path.exists(DATASET_NOISE_PATH) is False:\n",
        "    os.makedirs(DATASET_NOISE_PATH)\n",
        "\n",
        "for folder in os.listdir(DATASET_ROOT):\n",
        "    if os.path.isdir(os.path.join(DATASET_ROOT, folder)):\n",
        "        if folder in [AUDIO_SUBFOLDER, NOISE_SUBFOLDER]:\n",
        "            # If folder is `audio` or `noise`, do nothing\n",
        "            continue\n",
        "        elif folder in [\"other\", \"_background_noise_\"]:\n",
        "            # If folder is one of the folders that contains noise samples,\n",
        "            # move it to the `noise` folder\n",
        "            shutil.move(\n",
        "                os.path.join(DATASET_ROOT, folder),\n",
        "                os.path.join(DATASET_NOISE_PATH, folder),\n",
        "            )\n",
        "        else:\n",
        "            # Otherwise, it should be a speaker folder, then move it to\n",
        "            # `audio` folder\n",
        "            shutil.move(\n",
        "                os.path.join(DATASET_ROOT, folder),\n",
        "                os.path.join(DATASET_AUDIO_PATH, folder),\n",
        "            )"
      ],
      "execution_count": null,
      "outputs": []
    },
    {
      "cell_type": "markdown",
      "metadata": {
        "id": "GIyyY2rMPf-d"
      },
      "source": [
        "## Noise preparation\n"
      ]
    },
    {
      "cell_type": "code",
      "metadata": {
        "colab": {
          "base_uri": "https://localhost:8080/"
        },
        "id": "hAt1lAEfPf-e",
        "outputId": "40347a28-edb4-4b02-bc3e-e02180178757"
      },
      "source": [
        "# Get the list of all noise files\n",
        "noise_paths = []\n",
        "for subdir in os.listdir(DATASET_NOISE_PATH):\n",
        "    subdir_path = Path(DATASET_NOISE_PATH) / subdir\n",
        "    if os.path.isdir(subdir_path):\n",
        "        noise_paths += [\n",
        "            os.path.join(subdir_path, filepath)\n",
        "            for filepath in os.listdir(subdir_path)\n",
        "            if filepath.endswith(\".wav\")\n",
        "        ]\n",
        "\n",
        "print(\n",
        "    \"Found {} files belonging to {} directories\".format(\n",
        "        len(noise_paths), len(os.listdir(DATASET_NOISE_PATH))\n",
        "    )\n",
        ")"
      ],
      "execution_count": null,
      "outputs": [
        {
          "output_type": "stream",
          "text": [
            "Found 6 files belonging to 2 directories\n"
          ],
          "name": "stdout"
        }
      ]
    },
    {
      "cell_type": "markdown",
      "metadata": {
        "id": "0GJ6aKitPf-g"
      },
      "source": [
        "Resample all noise samples to 16000 Hz"
      ]
    },
    {
      "cell_type": "code",
      "metadata": {
        "colab": {
          "base_uri": "https://localhost:8080/"
        },
        "id": "J3lqyjExPf-j",
        "outputId": "e1d81639-00bc-4c47-8b68-7072b0ed34cb"
      },
      "source": [
        "command = (\n",
        "    \"for dir in `ls -1 \" + DATASET_NOISE_PATH + \"`; do \"\n",
        "    \"for file in `ls -1 \" + DATASET_NOISE_PATH + \"/$dir/*.wav`; do \"\n",
        "    \"sample_rate=`ffprobe -hide_banner -loglevel panic -show_streams \"\n",
        "    \"$file | grep sample_rate | cut -f2 -d=`; \"\n",
        "    \"if [ $sample_rate -ne 16000 ]; then \"\n",
        "    \"ffmpeg -hide_banner -loglevel panic -y \"\n",
        "    \"-i $file -ar 16000 temp.wav; \"\n",
        "    \"mv temp.wav $file; \"\n",
        "    \"fi; done; done\"\n",
        ")\n",
        "os.system(command)\n",
        "\n",
        "# Split noise into chunks of 16,000 steps each\n",
        "def load_noise_sample(path):\n",
        "    sample, sampling_rate = tf.audio.decode_wav(\n",
        "        tf.io.read_file(path), desired_channels=1\n",
        "    )\n",
        "    if sampling_rate == SAMPLING_RATE:\n",
        "        # Number of slices of 16000 each that can be generated from the noise sample\n",
        "        slices = int(sample.shape[0] / SAMPLING_RATE)\n",
        "        sample = tf.split(sample[: slices * SAMPLING_RATE], slices)\n",
        "        return sample\n",
        "    else:\n",
        "        print(\"Sampling rate for {} is incorrect. Ignoring it\".format(path))\n",
        "        return None\n",
        "\n",
        "\n",
        "noises = []\n",
        "for path in noise_paths:\n",
        "    sample = load_noise_sample(path)\n",
        "    if sample:\n",
        "        noises.extend(sample)\n",
        "noises = tf.stack(noises)\n",
        "\n",
        "print(\n",
        "    \"{} noise files were split into {} noise samples where each is {} sec. long\".format(\n",
        "        len(noise_paths), noises.shape[0], noises.shape[1] // SAMPLING_RATE\n",
        "    )\n",
        ")"
      ],
      "execution_count": null,
      "outputs": [
        {
          "output_type": "stream",
          "text": [
            "6 noise files were split into 354 noise samples where each is 1 sec. long\n"
          ],
          "name": "stdout"
        }
      ]
    },
    {
      "cell_type": "markdown",
      "metadata": {
        "id": "zzDrLvOTPf-l"
      },
      "source": [
        "## Dataset generation"
      ]
    },
    {
      "cell_type": "code",
      "metadata": {
        "colab": {
          "base_uri": "https://localhost:8080/"
        },
        "id": "d1g7BQdFPf-l",
        "outputId": "0204e56e-7d0e-4603-ad93-64d30b73a474"
      },
      "source": [
        "\n",
        "def paths_and_labels_to_dataset(audio_paths, labels):\n",
        "    \"\"\"Constructs a dataset of audios and labels.\"\"\"\n",
        "    path_ds = tf.data.Dataset.from_tensor_slices(audio_paths)\n",
        "    audio_ds = path_ds.map(lambda x: path_to_audio(x))\n",
        "    label_ds = tf.data.Dataset.from_tensor_slices(labels)\n",
        "    return tf.data.Dataset.zip((audio_ds, label_ds))\n",
        "\n",
        "\n",
        "def path_to_audio(path):\n",
        "    \"\"\"Reads and decodes an audio file.\"\"\"\n",
        "    audio = tf.io.read_file(path)\n",
        "    audio, _ = tf.audio.decode_wav(audio, 1, SAMPLING_RATE)\n",
        "    return audio\n",
        "\n",
        "\n",
        "def add_noise(audio, noises=None, scale=0.5):\n",
        "    if noises is not None:\n",
        "        # Create a random tensor of the same size as audio ranging from\n",
        "        # 0 to the number of noise stream samples that we have.\n",
        "        tf_rnd = tf.random.uniform(\n",
        "            (tf.shape(audio)[0],), 0, noises.shape[0], dtype=tf.int32\n",
        "        )\n",
        "        noise = tf.gather(noises, tf_rnd, axis=0)\n",
        "\n",
        "        # Get the amplitude proportion between the audio and the noise\n",
        "        prop = tf.math.reduce_max(audio, axis=1) / tf.math.reduce_max(noise, axis=1)\n",
        "        prop = tf.repeat(tf.expand_dims(prop, axis=1), tf.shape(audio)[1], axis=1)\n",
        "\n",
        "        # Adding the rescaled noise to audio\n",
        "        audio = audio + noise * prop * scale\n",
        "\n",
        "    return audio\n",
        "\n",
        "\n",
        "def audio_to_fft(audio):\n",
        "    # Since tf.signal.fft applies FFT on the innermost dimension,\n",
        "    # we need to squeeze the dimensions and then expand them again\n",
        "    # after FFT\n",
        "    audio = tf.squeeze(audio, axis=-1)\n",
        "    fft = tf.signal.fft(\n",
        "        tf.cast(tf.complex(real=audio, imag=tf.zeros_like(audio)), tf.complex64)\n",
        "    )\n",
        "    fft = tf.expand_dims(fft, axis=-1)\n",
        "\n",
        "    # Return the absolute value of the first half of the FFT\n",
        "    # which represents the positive frequencies\n",
        "    return tf.math.abs(fft[:, : (audio.shape[1] // 2), :])\n",
        "\n",
        "\n",
        "# Get the list of audio file paths along with their corresponding labels\n",
        "\n",
        "class_names = os.listdir(DATASET_AUDIO_PATH)\n",
        "print(\"Our class names: {}\".format(class_names,))\n",
        "\n",
        "audio_paths = []\n",
        "labels = []\n",
        "for label, name in enumerate(class_names):\n",
        "    print(\"Processing speaker {}\".format(name,))\n",
        "    dir_path = Path(DATASET_AUDIO_PATH) / name\n",
        "    speaker_sample_paths = [\n",
        "        os.path.join(dir_path, filepath)\n",
        "        for filepath in os.listdir(dir_path)\n",
        "        if filepath.endswith(\".wav\")\n",
        "    ]\n",
        "    audio_paths += speaker_sample_paths\n",
        "    labels += [label] * len(speaker_sample_paths)\n",
        "\n",
        "print(\n",
        "    \"Found {} files belonging to {} classes.\".format(len(audio_paths), len(class_names))\n",
        ")\n",
        "\n",
        "# Shuffle\n",
        "rng = np.random.RandomState(SHUFFLE_SEED)\n",
        "rng.shuffle(audio_paths)\n",
        "rng = np.random.RandomState(SHUFFLE_SEED)\n",
        "rng.shuffle(labels)\n",
        "\n",
        "# Split into training and validation\n",
        "num_val_samples = int(VALID_SPLIT * len(audio_paths))\n",
        "print(\"Using {} files for training.\".format(len(audio_paths) - num_val_samples))\n",
        "train_audio_paths = audio_paths[:-num_val_samples]\n",
        "train_labels = labels[:-num_val_samples]\n",
        "\n",
        "print(\"Using {} files for validation.\".format(num_val_samples))\n",
        "valid_audio_paths = audio_paths[-num_val_samples:]\n",
        "valid_labels = labels[-num_val_samples:]\n",
        "\n",
        "# Create 2 datasets, one for training and the other for validation\n",
        "train_ds = paths_and_labels_to_dataset(train_audio_paths, train_labels)\n",
        "train_ds = train_ds.shuffle(buffer_size=BATCH_SIZE * 8, seed=SHUFFLE_SEED).batch(\n",
        "    BATCH_SIZE\n",
        ")\n",
        "\n",
        "valid_ds = paths_and_labels_to_dataset(valid_audio_paths, valid_labels)\n",
        "valid_ds = valid_ds.shuffle(buffer_size=32 * 8, seed=SHUFFLE_SEED).batch(32)\n",
        "\n",
        "\n",
        "# Add noise to the training set\n",
        "train_ds = train_ds.map(\n",
        "    lambda x, y: (add_noise(x, noises, scale=SCALE), y),\n",
        "    num_parallel_calls=tf.data.experimental.AUTOTUNE,\n",
        ")\n",
        "\n",
        "# Transform audio wave to the frequency domain using `audio_to_fft`\n",
        "train_ds = train_ds.map(\n",
        "    lambda x, y: (audio_to_fft(x), y), num_parallel_calls=tf.data.experimental.AUTOTUNE\n",
        ")\n",
        "train_ds = train_ds.prefetch(tf.data.experimental.AUTOTUNE)\n",
        "\n",
        "valid_ds = valid_ds.map(\n",
        "    lambda x, y: (audio_to_fft(x), y), num_parallel_calls=tf.data.experimental.AUTOTUNE\n",
        ")\n",
        "valid_ds = valid_ds.prefetch(tf.data.experimental.AUTOTUNE)"
      ],
      "execution_count": null,
      "outputs": [
        {
          "output_type": "stream",
          "text": [
            "Our class names: ['Benjamin_Netanyau', 'Nelson_Mandela', 'Julia_Gillard', 'Jens_Stoltenberg', 'Magaret_Tarcher', 'Fatima_Azim', 'Safiya_Mehmood', 'Husun_Bano']\n",
            "Processing speaker Benjamin_Netanyau\n",
            "Processing speaker Nelson_Mandela\n",
            "Processing speaker Julia_Gillard\n",
            "Processing speaker Jens_Stoltenberg\n",
            "Processing speaker Magaret_Tarcher\n",
            "Processing speaker Fatima_Azim\n",
            "Processing speaker Safiya_Mehmood\n",
            "Processing speaker Husun_Bano\n",
            "Found 12002 files belonging to 8 classes.\n",
            "Using 10802 files for training.\n",
            "Using 1200 files for validation.\n"
          ],
          "name": "stdout"
        }
      ]
    },
    {
      "cell_type": "markdown",
      "metadata": {
        "id": "Mmg3sdNtPf-o"
      },
      "source": [
        "## Model Definition"
      ]
    },
    {
      "cell_type": "code",
      "metadata": {
        "colab": {
          "base_uri": "https://localhost:8080/"
        },
        "id": "NwGfeGg3Pf-q",
        "outputId": "bba36f52-b0dd-4c5e-fa47-ee4b60b1ea9c"
      },
      "source": [
        "from keras.layers import LSTM, Dense, Dropout, Flatten\n",
        "from keras.models import Sequential\n",
        " \n",
        "def build_model():\n",
        "    input_shape = (None, 8000, 1)\n",
        "    \n",
        "    model = Sequential()\n",
        "    # model.add(LSTM(64, batch_input_shape=(None, 8000, 1), activation='tanh', return_sequences=True))\n",
        "    # model.add(LSTM(75, activation='tanh', return_sequences=True, dropout=0.2))\n",
        "    # model.add(LSTM(64, activation='tanh'))\n",
        "    # model.add(Dense(8, activation='softmax'))\n",
        "    model.add(LSTM(256, return_sequences=True, batch_input_shape=(None, 8000, 1), dropout=0.5))\n",
        "    model.add(LSTM(128, return_sequences=True))\n",
        "    model.add(Flatten())\n",
        "    model.add(Dense(128, activation='relu'))\n",
        "    model.add(Dropout(0.5))\n",
        "    model.add(Dense(8, activation='softmax'))\n",
        "    return model\n",
        " \n",
        "\n",
        "model = build_model()\n",
        "model.summary()\n",
        " \n",
        "#ADJUSTING LEARNING RATE\n",
        "optimizer = keras.optimizers.Adam(lr=0.001)\n",
        " \n",
        " \n",
        "# Compile the model using Adam's default learning rate\n",
        "model.compile(\n",
        "    optimizer=optimizer, loss=\"sparse_categorical_crossentropy\", metrics=[\"accuracy\"]\n",
        ")\n",
        " \n",
        "# Add callbacks:\n",
        "# 'EarlyStopping' to stop training when the model is not enhancing anymore\n",
        "# 'ModelCheckPoint' to always keep the model that has the best val_accuracy\n",
        "model_save_filename = \"model.h5\"\n",
        " \n",
        "earlystopping_cb = keras.callbacks.EarlyStopping(patience=5, restore_best_weights=True)\n",
        "mdlcheckpoint_cb = keras.callbacks.ModelCheckpoint(\n",
        "    model_save_filename, monitor=\"val_accuracy\", save_best_only=True\n",
        ")"
      ],
      "execution_count": null,
      "outputs": [
        {
          "output_type": "stream",
          "text": [
            "Model: \"sequential_19\"\n",
            "_________________________________________________________________\n",
            "Layer (type)                 Output Shape              Param #   \n",
            "=================================================================\n",
            "lstm_23 (LSTM)               (None, 8000, 256)         264192    \n",
            "_________________________________________________________________\n",
            "lstm_24 (LSTM)               (None, 8000, 128)         197120    \n",
            "_________________________________________________________________\n",
            "flatten_13 (Flatten)         (None, 1024000)           0         \n",
            "_________________________________________________________________\n",
            "dense_31 (Dense)             (None, 128)               131072128 \n",
            "_________________________________________________________________\n",
            "dropout_15 (Dropout)         (None, 128)               0         \n",
            "_________________________________________________________________\n",
            "dense_32 (Dense)             (None, 8)                 1032      \n",
            "=================================================================\n",
            "Total params: 131,534,472\n",
            "Trainable params: 131,534,472\n",
            "Non-trainable params: 0\n",
            "_________________________________________________________________\n"
          ],
          "name": "stdout"
        }
      ]
    },
    {
      "cell_type": "code",
      "metadata": {
        "colab": {
          "base_uri": "https://localhost:8080/"
        },
        "id": "3Cj8U_IMSvFh",
        "outputId": "9003c5b9-e3ee-4195-a014-13c73c244927"
      },
      "source": [
        "train_ds"
      ],
      "execution_count": null,
      "outputs": [
        {
          "output_type": "execute_result",
          "data": {
            "text/plain": [
              "<PrefetchDataset shapes: ((None, 8000, 1), (None,)), types: (tf.float32, tf.int32)>"
            ]
          },
          "metadata": {
            "tags": []
          },
          "execution_count": 12
        }
      ]
    },
    {
      "cell_type": "markdown",
      "metadata": {
        "id": "18oekipEPf-s"
      },
      "source": [
        "## Training"
      ]
    },
    {
      "cell_type": "code",
      "metadata": {
        "colab": {
          "base_uri": "https://localhost:8080/",
          "height": 1000
        },
        "id": "mXS_KTo4Pf-t",
        "outputId": "cdd55110-0087-4f36-82ad-99d5c2ebc972"
      },
      "source": [
        "history = model.fit(\n",
        "    train_ds,\n",
        "    batch_size=BATCH_SIZE,\n",
        "    #steps_per_epoch=50,\n",
        "    epochs=EPOCHS,\n",
        "    validation_data=valid_ds,\n",
        "    validation_steps=5,\n",
        "    callbacks=[earlystopping_cb, mdlcheckpoint_cb],\n",
        ")\n",
        "\n",
        "# list all data in history\n",
        "print(history.history.keys())\n",
        "# summarize history for accuracy\n",
        "plt.plot(history.history['accuracy'])\n",
        "plt.plot(history.history['val_accuracy'])  \n",
        "plt.title('model accuracy')\n",
        "plt.ylabel('accuracy')\n",
        "plt.xlabel('epoch')\n",
        "plt.legend(['train', 'test'], loc='upper left')\n",
        "plt.show()\n",
        "# summarize history for loss\n",
        "plt.plot(history.history['loss'])\n",
        "plt.plot(history.history['val_loss'])\n",
        "plt.title('model loss') \n",
        "plt.ylabel('loss')    \n",
        "plt.xlabel('epoch')\n",
        "plt.legend(['train', 'test'], loc='upper left') \n",
        "plt.show() "
      ],
      "execution_count": null,
      "outputs": [
        {
          "output_type": "stream",
          "text": [
            "Epoch 1/50\n",
            "169/169 [==============================] - 199s 1s/step - loss: 9.4691 - accuracy: 0.1870 - val_loss: 1.8011 - val_accuracy: 0.2875\n",
            "Epoch 2/50\n",
            "169/169 [==============================] - 197s 1s/step - loss: 1.8140 - accuracy: 0.2594 - val_loss: 1.7530 - val_accuracy: 0.3125\n",
            "Epoch 3/50\n",
            "169/169 [==============================] - 199s 1s/step - loss: 1.6506 - accuracy: 0.3112 - val_loss: 1.9579 - val_accuracy: 0.2562\n",
            "Epoch 4/50\n",
            "169/169 [==============================] - 199s 1s/step - loss: 1.4671 - accuracy: 0.3812 - val_loss: 1.7518 - val_accuracy: 0.2875\n",
            "Epoch 5/50\n",
            "169/169 [==============================] - 199s 1s/step - loss: 1.4358 - accuracy: 0.3877 - val_loss: 1.5396 - val_accuracy: 0.3313\n",
            "Epoch 6/50\n",
            "169/169 [==============================] - 200s 1s/step - loss: 1.4283 - accuracy: 0.4091 - val_loss: 1.3205 - val_accuracy: 0.4437\n",
            "Epoch 7/50\n",
            "169/169 [==============================] - 199s 1s/step - loss: 1.3382 - accuracy: 0.4413 - val_loss: 1.3077 - val_accuracy: 0.4875\n",
            "Epoch 8/50\n",
            "169/169 [==============================] - 200s 1s/step - loss: 1.3322 - accuracy: 0.4521 - val_loss: 1.2486 - val_accuracy: 0.4750\n",
            "Epoch 9/50\n",
            "169/169 [==============================] - 200s 1s/step - loss: 1.2570 - accuracy: 0.4808 - val_loss: 1.1780 - val_accuracy: 0.6062\n",
            "Epoch 10/50\n",
            "169/169 [==============================] - 200s 1s/step - loss: 1.2736 - accuracy: 0.4863 - val_loss: 1.1993 - val_accuracy: 0.5250\n",
            "Epoch 11/50\n",
            "169/169 [==============================] - 200s 1s/step - loss: 1.1848 - accuracy: 0.5225 - val_loss: 1.2443 - val_accuracy: 0.4750\n",
            "Epoch 12/50\n",
            "169/169 [==============================] - 200s 1s/step - loss: 1.1545 - accuracy: 0.5284 - val_loss: 1.5119 - val_accuracy: 0.4375\n",
            "Epoch 13/50\n",
            "169/169 [==============================] - 200s 1s/step - loss: 1.1382 - accuracy: 0.5458 - val_loss: 1.1593 - val_accuracy: 0.5125\n",
            "Epoch 14/50\n",
            "169/169 [==============================] - 200s 1s/step - loss: 1.1389 - accuracy: 0.5398 - val_loss: 1.2209 - val_accuracy: 0.5063\n",
            "Epoch 15/50\n",
            "169/169 [==============================] - 201s 1s/step - loss: 1.0613 - accuracy: 0.5714 - val_loss: 1.1483 - val_accuracy: 0.5625\n",
            "Epoch 16/50\n",
            "169/169 [==============================] - 200s 1s/step - loss: 0.9748 - accuracy: 0.6078 - val_loss: 1.6464 - val_accuracy: 0.4625\n",
            "Epoch 17/50\n",
            "169/169 [==============================] - 200s 1s/step - loss: 0.9174 - accuracy: 0.6372 - val_loss: 1.4940 - val_accuracy: 0.4875\n",
            "Epoch 18/50\n",
            "169/169 [==============================] - 201s 1s/step - loss: 0.9242 - accuracy: 0.6310 - val_loss: 0.9474 - val_accuracy: 0.5875\n",
            "Epoch 19/50\n",
            "169/169 [==============================] - 201s 1s/step - loss: 0.8966 - accuracy: 0.6381 - val_loss: 0.7523 - val_accuracy: 0.7250\n",
            "Epoch 20/50\n",
            "169/169 [==============================] - 201s 1s/step - loss: 0.8903 - accuracy: 0.6354 - val_loss: 1.0769 - val_accuracy: 0.6750\n",
            "Epoch 21/50\n",
            "169/169 [==============================] - 201s 1s/step - loss: 0.8426 - accuracy: 0.6584 - val_loss: 0.9727 - val_accuracy: 0.6687\n",
            "Epoch 22/50\n",
            "169/169 [==============================] - 200s 1s/step - loss: 0.8013 - accuracy: 0.6825 - val_loss: 1.0190 - val_accuracy: 0.6313\n",
            "Epoch 23/50\n",
            "169/169 [==============================] - 200s 1s/step - loss: 0.8076 - accuracy: 0.6853 - val_loss: 1.0051 - val_accuracy: 0.6313\n",
            "Epoch 24/50\n",
            "169/169 [==============================] - 201s 1s/step - loss: 0.7711 - accuracy: 0.6873 - val_loss: 1.0302 - val_accuracy: 0.7063\n",
            "dict_keys(['loss', 'accuracy', 'val_loss', 'val_accuracy'])\n"
          ],
          "name": "stdout"
        },
        {
          "output_type": "display_data",
          "data": {
            "image/png": "[encoded data removed]",
            "text/plain": [
              "<Figure size 432x288 with 1 Axes>"
            ]
          },
          "metadata": {
            "tags": [],
            "needs_background": "light"
          }
        },
        {
          "output_type": "display_data",
          "data": {
            "image/png": "[encoded data removed]",
            "text/plain": [
              "<Figure size 432x288 with 1 Axes>"
            ]
          },
          "metadata": {
            "tags": [],
            "needs_background": "light"
          }
        }
      ]
    },
    {
      "cell_type": "markdown",
      "metadata": {
        "id": "HABBF8DgPf-u"
      },
      "source": [
        "## Evaluation"
      ]
    },
    {
      "cell_type": "code",
      "metadata": {
        "id": "sYcmjZ-NdLFS",
        "colab": {
          "base_uri": "https://localhost:8080/"
        },
        "outputId": "8e70d728-6566-406f-8997-c1755113f02a"
      },
      "source": [
        "print(model.evaluate(train_ds))"
      ],
      "execution_count": null,
      "outputs": [
        {
          "output_type": "stream",
          "text": [
            "169/169 [==============================] - 134s 783ms/step - loss: 0.6303 - accuracy: 0.8164\n",
            "[0.6302580237388611, 0.8164228796958923]\n"
          ],
          "name": "stdout"
        }
      ]
    },
    {
      "cell_type": "code",
      "metadata": {
        "id": "zyXlfyawPf-w",
        "colab": {
          "base_uri": "https://localhost:8080/"
        },
        "outputId": "b5f5d580-3a01-4201-c901-863be559f025"
      },
      "source": [
        "print(model.evaluate(valid_ds))"
      ],
      "execution_count": null,
      "outputs": [
        {
          "output_type": "stream",
          "text": [
            "38/38 [==============================] - 18s 444ms/step - loss: 0.7644 - accuracy: 0.7533\n",
            "[0.7644160389900208, 0.753333330154419]\n"
          ],
          "name": "stdout"
        }
      ]
    },
    {
      "cell_type": "markdown",
      "metadata": {
        "id": "Y4OX_XYUFK_q"
      },
      "source": [
        "###Final Accuracy after Hyperparameter Tuning: 75%"
      ]
    },
    {
      "cell_type": "markdown",
      "metadata": {
        "id": "WKc_OArQPf-y"
      },
      "source": [
        "## Demonstration\n"
      ]
    },
    {
      "cell_type": "code",
      "metadata": {
        "id": "YeKBqzb3Pf-z"
      },
      "source": [
        "SAMPLES_TO_DISPLAY = 20\n",
        "\n",
        "test_ds = paths_and_labels_to_dataset(valid_audio_paths, valid_labels)\n",
        "test_ds = test_ds.shuffle(buffer_size=BATCH_SIZE * 8, seed=SHUFFLE_SEED).batch(\n",
        "    BATCH_SIZE\n",
        ")\n",
        "\n",
        "test_ds = test_ds.map(lambda x, y: (add_noise(x, noises, scale=SCALE), y))\n",
        "\n",
        "for audios, labels in test_ds.take(1):\n",
        "    # Get the signal FFT\n",
        "    ffts = audio_to_fft(audios)\n",
        "    # Predict\n",
        "    y_pred = model.predict(ffts)\n",
        "    # Take random samples\n",
        "    rnd = np.random.randint(0, BATCH_SIZE, SAMPLES_TO_DISPLAY)\n",
        "    audios = audios.numpy()[rnd, :, :]\n",
        "    labels = labels.numpy()[rnd]\n",
        "    y_pred = np.argmax(y_pred, axis=-1)[rnd]\n",
        "\n",
        "    for index in range(SAMPLES_TO_DISPLAY):\n",
        "        # For every sample, print the true and predicted label\n",
        "        # as well as run the voice with the noise\n",
        "        print(\n",
        "            \"Speaker:\\33{} {}\\33[0m\\tPredicted:\\33{} {}\\33[0m\".format(\n",
        "                \"[92m\" if labels[index] == y_pred[index] else \"[91m\",\n",
        "                class_names[labels[index]],\n",
        "                \"[92m\" if labels[index] == y_pred[index] else \"[91m\",\n",
        "                class_names[y_pred[index]],\n",
        "            )\n",
        "        )\n",
        "        display(Audio(audios[index, :, :].squeeze(), rate=SAMPLING_RATE))"
      ],
      "execution_count": null,
      "outputs": []
    }
  ]
}